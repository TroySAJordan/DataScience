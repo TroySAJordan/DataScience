{
 "cells": [
  {
   "cell_type": "markdown",
   "metadata": {},
   "source": [
    "# Khan Academy - Alternate coordinate systems\n",
    "\n",
    "Alternate coordinate systems (bases) | Linear Algebra \n",
    "\n",
    "[YouTube - Khan Academy Playlist - Alternate coordinate systems (bases) | Linear Algebra | Khan Academy](https://www.youtube.com/playlist?list=PLSQl0a2vh4HBYC5cYWXhQG9NfqYVMcspF)\n",
    "\n",
    "[YouTube - Khan Academy Channel](https://www.youtube.com/c/khanacademy)"
   ]
  },
  {
   "cell_type": "code",
   "execution_count": 8,
   "metadata": {},
   "outputs": [
    {
     "name": "stdout",
     "output_type": "stream",
     "text": [
      "[-3 -2 -1  0  1  2  3  4  5  6  7  8  9 10]\n",
      "[-8 -6 -4 -2  0  2  4  6  8 10 12 14 16 18]\n"
     ]
    },
    {
     "data": {
      "image/png": "[encoded data removed]",
      "text/plain": [
       "<Figure size 432x288 with 1 Axes>"
      ]
     },
     "metadata": {
      "needs_background": "light"
     },
     "output_type": "display_data"
    }
   ],
   "source": [
    "import matplotlib.pyplot as plt\n",
    "%matplotlib inline\n",
    "import numpy as np\n",
    "from numpy.core.fromnumeric import reshape, shape\n",
    "# 2x -y = 2 || y = 2x - 2\n",
    "# x +2y = 1 || y = -1/2x + 1/2\n",
    "# x + y = 4 || y = -x + 4\n",
    "# 2 -1 | 2\n",
    "# 1 2 | 1\n",
    "# 1 1 | 4\n",
    "\n",
    "xs = np.arange(-3, 11)\n",
    "y1 = 2 * xs -2\n",
    "y2 = -0.5 * xs + 0.5\n",
    "y3 = -xs + 4\n",
    "ys = [y1, y2, y3]\n",
    "\n",
    "fig, ax = plt.subplots()\n",
    "for y in ys:\n",
    "    # print(x, y)\n",
    "    ax.plot(xs, y)\n",
    "# ax.set_title('Least squares examples | Alternate coordinate systems (bases) | Linear Algebra | Khan Academy')\n",
    "ax.spines['left'].set_position('zero')\n",
    "ax.spines['right'].set_color('none')\n",
    "ax.spines['bottom'].set_position('zero')\n",
    "ax.spines['top'].set_color('none')\n",
    "print(xs)\n",
    "print(y1)\n",
    "\n"
   ]
  },
  {
   "cell_type": "code",
   "execution_count": 3,
   "metadata": {},
   "outputs": [
    {
     "name": "stdout",
     "output_type": "stream",
     "text": [
      "A\n",
      "[[ 2 -1]\n",
      " [ 1  2]\n",
      " [ 1  1]]\n",
      "\n",
      "\n",
      "b\n",
      "[2 1 4]\n",
      "\n",
      "\n",
      "At\n",
      " [[ 2  1  1]\n",
      " [-1  2  1]]\n",
      "\n",
      "\n",
      "AtA\n",
      "[[6 1]\n",
      " [1 6]]\n",
      "\n",
      "\n",
      "Atb\n",
      "[[9]\n",
      " [4]]\n",
      "\n",
      "\n"
     ]
    }
   ],
   "source": [
    "# Matrix * Vector\n",
    "# 2 * x, -1 * y\n",
    "# 2x -y = 2 || [2, -1] = 2\n",
    "# x +2y = 1 || [1,  2] = 1\n",
    "# x + y = 4 || [1,  1] = 4\n",
    "\n",
    "A = np.array([[2, -1], [1, 2], [1, 1]])\n",
    "# xy = np.array([[x], [y]])\n",
    "# b = np.matrix([[2], [1], [4]])\n",
    "b = np.array([2, 1, 4])\n",
    "print(f'A\\n{A}\\n\\n')\n",
    "print(f'b\\n{b}\\n\\n')\n",
    "\n",
    "#Ax = b\n",
    "#AtAx* = ATb\n",
    "At = np.transpose(A)\n",
    "print(f'At\\n {At}\\n\\n')\n",
    "\n",
    "AtA = np.dot(At,A)\n",
    "print(f'AtA\\n{AtA}\\n\\n')\n",
    "\n",
    "Atb = np.dot(At,b).reshape(2,1)\n",
    "print(f'Atb\\n{Atb}\\n\\n')\n"
   ]
  },
  {
   "cell_type": "code",
   "execution_count": 14,
   "metadata": {},
   "outputs": [
    {
     "name": "stdout",
     "output_type": "stream",
     "text": [
      "x\n",
      "[[1.42857143]\n",
      " [0.42857143]]\n",
      "\n",
      "\n"
     ]
    }
   ],
   "source": [
    "#AtAx* = Atb\n",
    "x = np.linalg.solve(AtA, Atb)\n",
    "print(f'x\\n{x}\\n\\n')\n",
    "least_squares = ax.plot(x[0][0], x[1][0], 'ro')\n",
    "\n"
   ]
  }
 ],
 "metadata": {
  "kernelspec": {
   "display_name": "Python 3.9.1 ('venv': venv)",
   "language": "python",
   "name": "python3"
  },
  "language_info": {
   "codemirror_mode": {
    "name": "ipython",
    "version": 3
   },
   "file_extension": ".py",
   "mimetype": "text/x-python",
   "name": "python",
   "nbconvert_exporter": "python",
   "pygments_lexer": "ipython3",
   "version": "3.9.1"
  },
  "orig_nbformat": 4,
  "vscode": {
   "interpreter": {
    "hash": "a858cc8bd373c8739c79af2909f1d1cef66fe048183eb37e66432ae1952f4b13"
   }
  }
 },
 "nbformat": 4,
 "nbformat_minor": 2
}
